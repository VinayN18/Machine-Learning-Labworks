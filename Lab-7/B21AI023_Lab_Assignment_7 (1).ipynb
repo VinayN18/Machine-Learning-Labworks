{
  "nbformat": 4,
  "nbformat_minor": 0,
  "metadata": {
    "colab": {
      "provenance": []
    },
    "kernelspec": {
      "name": "python3",
      "display_name": "Python 3"
    },
    "language_info": {
      "name": "python"
    }
  },
  "cells": [
    {
      "cell_type": "code",
      "source": [
        "from google.colab import drive\n",
        "drive.mount('/content/drive')"
      ],
      "metadata": {
        "colab": {
          "base_uri": "https://localhost:8080/"
        },
        "id": "-Lmnp0yO1O6P",
        "outputId": "04438ee0-d8ef-4c90-e309-7ede04f42577"
      },
      "execution_count": null,
      "outputs": [
        {
          "output_type": "stream",
          "name": "stdout",
          "text": [
            "Drive already mounted at /content/drive; to attempt to forcibly remount, call drive.mount(\"/content/drive\", force_remount=True).\n"
          ]
        }
      ]
    },
    {
      "cell_type": "markdown",
      "source": [
        "## **Question 1**"
      ],
      "metadata": {
        "id": "KugwzE6N0hHR"
      }
    },
    {
      "cell_type": "markdown",
      "source": [
        "### **Part 1**"
      ],
      "metadata": {
        "id": "PDFRqo6B5VRi"
      }
    },
    {
      "cell_type": "code",
      "execution_count": null,
      "metadata": {
        "colab": {
          "base_uri": "https://localhost:8080/",
          "height": 317
        },
        "id": "p_aWHhLw0PrY",
        "outputId": "d111c350-78e0-4eb6-ca66-cea60b0dd997"
      },
      "outputs": [
        {
          "output_type": "execute_result",
          "data": {
            "text/plain": [
              "  family product-type steel  carbon  hardness temper_rolling condition  \\\n",
              "0      ?            C     A       8         0              ?         S   \n",
              "1      ?            C     R       0         0              ?         S   \n",
              "2      ?            C     R       0         0              ?         S   \n",
              "3      ?            C     A       0        60              T         ?   \n",
              "4      ?            C     A       0        60              T         ?   \n",
              "\n",
              "  formability  strength non-ageing  ...  s  p  shape  thick   width  len oil  \\\n",
              "0           ?         0          ?  ...  ?  ?   COIL  0.700   610.0    0   ?   \n",
              "1           2         0          ?  ...  ?  ?   COIL  3.200   610.0    0   ?   \n",
              "2           2         0          ?  ...  ?  ?  SHEET  0.700  1300.0  762   ?   \n",
              "3           ?         0          ?  ...  ?  ?   COIL  2.801   385.1    0   ?   \n",
              "4           ?         0          ?  ...  ?  ?  SHEET  0.801   255.0  269   ?   \n",
              "\n",
              "  bore packing classes  \n",
              "0    0       ?       3  \n",
              "1    0       ?       3  \n",
              "2    0       ?       3  \n",
              "3    0       ?       3  \n",
              "4    0       ?       3  \n",
              "\n",
              "[5 rows x 39 columns]"
            ],
            "text/html": [
              "\n",
              "  <div id=\"df-f51c1327-4928-41b3-b062-5bb3853cf131\">\n",
              "    <div class=\"colab-df-container\">\n",
              "      <div>\n",
              "<style scoped>\n",
              "    .dataframe tbody tr th:only-of-type {\n",
              "        vertical-align: middle;\n",
              "    }\n",
              "\n",
              "    .dataframe tbody tr th {\n",
              "        vertical-align: top;\n",
              "    }\n",
              "\n",
              "    .dataframe thead th {\n",
              "        text-align: right;\n",
              "    }\n",
              "</style>\n",
              "<table border=\"1\" class=\"dataframe\">\n",
              "  <thead>\n",
              "    <tr style=\"text-align: right;\">\n",
              "      <th></th>\n",
              "      <th>family</th>\n",
              "      <th>product-type</th>\n",
              "      <th>steel</th>\n",
              "      <th>carbon</th>\n",
              "      <th>hardness</th>\n",
              "      <th>temper_rolling</th>\n",
              "      <th>condition</th>\n",
              "      <th>formability</th>\n",
              "      <th>strength</th>\n",
              "      <th>non-ageing</th>\n",
              "      <th>...</th>\n",
              "      <th>s</th>\n",
              "      <th>p</th>\n",
              "      <th>shape</th>\n",
              "      <th>thick</th>\n",
              "      <th>width</th>\n",
              "      <th>len</th>\n",
              "      <th>oil</th>\n",
              "      <th>bore</th>\n",
              "      <th>packing</th>\n",
              "      <th>classes</th>\n",
              "    </tr>\n",
              "  </thead>\n",
              "  <tbody>\n",
              "    <tr>\n",
              "      <th>0</th>\n",
              "      <td>?</td>\n",
              "      <td>C</td>\n",
              "      <td>A</td>\n",
              "      <td>8</td>\n",
              "      <td>0</td>\n",
              "      <td>?</td>\n",
              "      <td>S</td>\n",
              "      <td>?</td>\n",
              "      <td>0</td>\n",
              "      <td>?</td>\n",
              "      <td>...</td>\n",
              "      <td>?</td>\n",
              "      <td>?</td>\n",
              "      <td>COIL</td>\n",
              "      <td>0.700</td>\n",
              "      <td>610.0</td>\n",
              "      <td>0</td>\n",
              "      <td>?</td>\n",
              "      <td>0</td>\n",
              "      <td>?</td>\n",
              "      <td>3</td>\n",
              "    </tr>\n",
              "    <tr>\n",
              "      <th>1</th>\n",
              "      <td>?</td>\n",
              "      <td>C</td>\n",
              "      <td>R</td>\n",
              "      <td>0</td>\n",
              "      <td>0</td>\n",
              "      <td>?</td>\n",
              "      <td>S</td>\n",
              "      <td>2</td>\n",
              "      <td>0</td>\n",
              "      <td>?</td>\n",
              "      <td>...</td>\n",
              "      <td>?</td>\n",
              "      <td>?</td>\n",
              "      <td>COIL</td>\n",
              "      <td>3.200</td>\n",
              "      <td>610.0</td>\n",
              "      <td>0</td>\n",
              "      <td>?</td>\n",
              "      <td>0</td>\n",
              "      <td>?</td>\n",
              "      <td>3</td>\n",
              "    </tr>\n",
              "    <tr>\n",
              "      <th>2</th>\n",
              "      <td>?</td>\n",
              "      <td>C</td>\n",
              "      <td>R</td>\n",
              "      <td>0</td>\n",
              "      <td>0</td>\n",
              "      <td>?</td>\n",
              "      <td>S</td>\n",
              "      <td>2</td>\n",
              "      <td>0</td>\n",
              "      <td>?</td>\n",
              "      <td>...</td>\n",
              "      <td>?</td>\n",
              "      <td>?</td>\n",
              "      <td>SHEET</td>\n",
              "      <td>0.700</td>\n",
              "      <td>1300.0</td>\n",
              "      <td>762</td>\n",
              "      <td>?</td>\n",
              "      <td>0</td>\n",
              "      <td>?</td>\n",
              "      <td>3</td>\n",
              "    </tr>\n",
              "    <tr>\n",
              "      <th>3</th>\n",
              "      <td>?</td>\n",
              "      <td>C</td>\n",
              "      <td>A</td>\n",
              "      <td>0</td>\n",
              "      <td>60</td>\n",
              "      <td>T</td>\n",
              "      <td>?</td>\n",
              "      <td>?</td>\n",
              "      <td>0</td>\n",
              "      <td>?</td>\n",
              "      <td>...</td>\n",
              "      <td>?</td>\n",
              "      <td>?</td>\n",
              "      <td>COIL</td>\n",
              "      <td>2.801</td>\n",
              "      <td>385.1</td>\n",
              "      <td>0</td>\n",
              "      <td>?</td>\n",
              "      <td>0</td>\n",
              "      <td>?</td>\n",
              "      <td>3</td>\n",
              "    </tr>\n",
              "    <tr>\n",
              "      <th>4</th>\n",
              "      <td>?</td>\n",
              "      <td>C</td>\n",
              "      <td>A</td>\n",
              "      <td>0</td>\n",
              "      <td>60</td>\n",
              "      <td>T</td>\n",
              "      <td>?</td>\n",
              "      <td>?</td>\n",
              "      <td>0</td>\n",
              "      <td>?</td>\n",
              "      <td>...</td>\n",
              "      <td>?</td>\n",
              "      <td>?</td>\n",
              "      <td>SHEET</td>\n",
              "      <td>0.801</td>\n",
              "      <td>255.0</td>\n",
              "      <td>269</td>\n",
              "      <td>?</td>\n",
              "      <td>0</td>\n",
              "      <td>?</td>\n",
              "      <td>3</td>\n",
              "    </tr>\n",
              "  </tbody>\n",
              "</table>\n",
              "<p>5 rows × 39 columns</p>\n",
              "</div>\n",
              "      <button class=\"colab-df-convert\" onclick=\"convertToInteractive('df-f51c1327-4928-41b3-b062-5bb3853cf131')\"\n",
              "              title=\"Convert this dataframe to an interactive table.\"\n",
              "              style=\"display:none;\">\n",
              "        \n",
              "  <svg xmlns=\"http://www.w3.org/2000/svg\" height=\"24px\"viewBox=\"0 0 24 24\"\n",
              "       width=\"24px\">\n",
              "    <path d=\"M0 0h24v24H0V0z\" fill=\"none\"/>\n",
              "    <path d=\"M18.56 5.44l.94 2.06.94-2.06 2.06-.94-2.06-.94-.94-2.06-.94 2.06-2.06.94zm-11 1L8.5 8.5l.94-2.06 2.06-.94-2.06-.94L8.5 2.5l-.94 2.06-2.06.94zm10 10l.94 2.06.94-2.06 2.06-.94-2.06-.94-.94-2.06-.94 2.06-2.06.94z\"/><path d=\"M17.41 7.96l-1.37-1.37c-.4-.4-.92-.59-1.43-.59-.52 0-1.04.2-1.43.59L10.3 9.45l-7.72 7.72c-.78.78-.78 2.05 0 2.83L4 21.41c.39.39.9.59 1.41.59.51 0 1.02-.2 1.41-.59l7.78-7.78 2.81-2.81c.8-.78.8-2.07 0-2.86zM5.41 20L4 18.59l7.72-7.72 1.47 1.35L5.41 20z\"/>\n",
              "  </svg>\n",
              "      </button>\n",
              "      \n",
              "  <style>\n",
              "    .colab-df-container {\n",
              "      display:flex;\n",
              "      flex-wrap:wrap;\n",
              "      gap: 12px;\n",
              "    }\n",
              "\n",
              "    .colab-df-convert {\n",
              "      background-color: #E8F0FE;\n",
              "      border: none;\n",
              "      border-radius: 50%;\n",
              "      cursor: pointer;\n",
              "      display: none;\n",
              "      fill: #1967D2;\n",
              "      height: 32px;\n",
              "      padding: 0 0 0 0;\n",
              "      width: 32px;\n",
              "    }\n",
              "\n",
              "    .colab-df-convert:hover {\n",
              "      background-color: #E2EBFA;\n",
              "      box-shadow: 0px 1px 2px rgba(60, 64, 67, 0.3), 0px 1px 3px 1px rgba(60, 64, 67, 0.15);\n",
              "      fill: #174EA6;\n",
              "    }\n",
              "\n",
              "    [theme=dark] .colab-df-convert {\n",
              "      background-color: #3B4455;\n",
              "      fill: #D2E3FC;\n",
              "    }\n",
              "\n",
              "    [theme=dark] .colab-df-convert:hover {\n",
              "      background-color: #434B5C;\n",
              "      box-shadow: 0px 1px 3px 1px rgba(0, 0, 0, 0.15);\n",
              "      filter: drop-shadow(0px 1px 2px rgba(0, 0, 0, 0.3));\n",
              "      fill: #FFFFFF;\n",
              "    }\n",
              "  </style>\n",
              "\n",
              "      <script>\n",
              "        const buttonEl =\n",
              "          document.querySelector('#df-f51c1327-4928-41b3-b062-5bb3853cf131 button.colab-df-convert');\n",
              "        buttonEl.style.display =\n",
              "          google.colab.kernel.accessAllowed ? 'block' : 'none';\n",
              "\n",
              "        async function convertToInteractive(key) {\n",
              "          const element = document.querySelector('#df-f51c1327-4928-41b3-b062-5bb3853cf131');\n",
              "          const dataTable =\n",
              "            await google.colab.kernel.invokeFunction('convertToInteractive',\n",
              "                                                     [key], {});\n",
              "          if (!dataTable) return;\n",
              "\n",
              "          const docLinkHtml = 'Like what you see? Visit the ' +\n",
              "            '<a target=\"_blank\" href=https://colab.research.google.com/notebooks/data_table.ipynb>data table notebook</a>'\n",
              "            + ' to learn more about interactive tables.';\n",
              "          element.innerHTML = '';\n",
              "          dataTable['output_type'] = 'display_data';\n",
              "          await google.colab.output.renderOutput(dataTable, element);\n",
              "          const docLink = document.createElement('div');\n",
              "          docLink.innerHTML = docLinkHtml;\n",
              "          element.appendChild(docLink);\n",
              "        }\n",
              "      </script>\n",
              "    </div>\n",
              "  </div>\n",
              "  "
            ]
          },
          "metadata": {},
          "execution_count": 71
        }
      ],
      "source": [
        "import pandas as pd\n",
        "import numpy as np\n",
        "import matplotlib.pyplot as plt\n",
        "%matplotlib inline\n",
        "import seaborn as sns\n",
        "\n",
        "dataset1 = pd.read_csv(\"/content/drive/MyDrive/prml/lab-7/anneal.data\", header=None,names=['family', 'product-type', 'steel', 'carbon', 'hardness', 'temper_rolling', 'condition', 'formability', 'strength', 'non-ageing', 'surface-finish', 'surface-quality', 'enamelability', 'bc', 'bf', 'bt', 'bw/me', 'bl', 'm', 'chrom', 'phos', 'cbond', 'marvi', 'exptl', 'ferro', 'corr', 'blue/bright/varn/clean', 'lustre', 'jurofm', 's', 'p', 'shape', 'thick', 'width', 'len', 'oil', 'bore', 'packing', 'classes'])\n",
        "dataset1.head()"
      ]
    },
    {
      "cell_type": "code",
      "source": [
        "dataset1.info()"
      ],
      "metadata": {
        "colab": {
          "base_uri": "https://localhost:8080/"
        },
        "id": "MyGyNxOPWqdL",
        "outputId": "ff73a6b1-9548-45d6-a57c-546cf29ae869"
      },
      "execution_count": null,
      "outputs": [
        {
          "output_type": "stream",
          "name": "stdout",
          "text": [
            "<class 'pandas.core.frame.DataFrame'>\n",
            "RangeIndex: 798 entries, 0 to 797\n",
            "Data columns (total 39 columns):\n",
            " #   Column                  Non-Null Count  Dtype  \n",
            "---  ------                  --------------  -----  \n",
            " 0   family                  798 non-null    object \n",
            " 1   product-type            798 non-null    object \n",
            " 2   steel                   798 non-null    object \n",
            " 3   carbon                  798 non-null    int64  \n",
            " 4   hardness                798 non-null    int64  \n",
            " 5   temper_rolling          798 non-null    object \n",
            " 6   condition               798 non-null    object \n",
            " 7   formability             798 non-null    object \n",
            " 8   strength                798 non-null    int64  \n",
            " 9   non-ageing              798 non-null    object \n",
            " 10  surface-finish          798 non-null    object \n",
            " 11  surface-quality         798 non-null    object \n",
            " 12  enamelability           798 non-null    object \n",
            " 13  bc                      798 non-null    object \n",
            " 14  bf                      798 non-null    object \n",
            " 15  bt                      798 non-null    object \n",
            " 16  bw/me                   798 non-null    object \n",
            " 17  bl                      798 non-null    object \n",
            " 18  m                       798 non-null    object \n",
            " 19  chrom                   798 non-null    object \n",
            " 20  phos                    798 non-null    object \n",
            " 21  cbond                   798 non-null    object \n",
            " 22  marvi                   798 non-null    object \n",
            " 23  exptl                   798 non-null    object \n",
            " 24  ferro                   798 non-null    object \n",
            " 25  corr                    798 non-null    object \n",
            " 26  blue/bright/varn/clean  798 non-null    object \n",
            " 27  lustre                  798 non-null    object \n",
            " 28  jurofm                  798 non-null    object \n",
            " 29  s                       798 non-null    object \n",
            " 30  p                       798 non-null    object \n",
            " 31  shape                   798 non-null    object \n",
            " 32  thick                   798 non-null    float64\n",
            " 33  width                   798 non-null    float64\n",
            " 34  len                     798 non-null    int64  \n",
            " 35  oil                     798 non-null    object \n",
            " 36  bore                    798 non-null    int64  \n",
            " 37  packing                 798 non-null    object \n",
            " 38  classes                 798 non-null    object \n",
            "dtypes: float64(2), int64(5), object(32)\n",
            "memory usage: 243.3+ KB\n"
          ]
        }
      ]
    },
    {
      "cell_type": "code",
      "source": [
        "# Visualize the data using histograms and box plots\n",
        "dataset1.hist(figsize=(10,10))\n",
        "plt.show()\n",
        "dataset1.plot(kind='box', subplots=True, layout=(5,5), sharex=False, sharey=False, figsize=(15,15))\n",
        "plt.show()"
      ],
      "metadata": {
        "colab": {
          "base_uri": "https://localhost:8080/",
          "height": 856
        },
        "id": "XTvQTqaVW-j4",
        "outputId": "21f67c6e-7069-435b-b81c-1938684f27a0"
      },
      "execution_count": null,
      "outputs": [
        {
          "output_type": "display_data",
          "data": {
            "text/plain": [
              "<Figure size 720x720 with 9 Axes>"
            ],
            "image/png": "[encoded data removed]"
          },
          "metadata": {
            "needs_background": "light"
          }
        },
        {
          "output_type": "display_data",
          "data": {
            "text/plain": [
              "<Figure size 1080x1080 with 25 Axes>"
            ],
            "image/png": "[encoded data removed]"
          },
          "metadata": {
            "needs_background": "light"
          }
        }
      ]
    },
    {
      "cell_type": "markdown",
      "source": [
        "### **Part 2**"
      ],
      "metadata": {
        "id": "esmrZzt04UWa"
      }
    },
    {
      "cell_type": "code",
      "source": [
        "dataset1 = dataset1.replace('?',np.nan)\n",
        "print(dataset1.isnull().sum())"
      ],
      "metadata": {
        "colab": {
          "base_uri": "https://localhost:8080/"
        },
        "id": "RBETatYHwSKq",
        "outputId": "71bfa477-42fc-4a35-c821-5e695e40e4e4"
      },
      "execution_count": null,
      "outputs": [
        {
          "output_type": "stream",
          "name": "stdout",
          "text": [
            "family                    687\n",
            "product-type                0\n",
            "steel                      70\n",
            "carbon                      0\n",
            "hardness                    0\n",
            "temper_rolling            675\n",
            "condition                 271\n",
            "formability               283\n",
            "strength                    0\n",
            "non-ageing                703\n",
            "surface-finish            790\n",
            "surface-quality           217\n",
            "enamelability             785\n",
            "bc                        797\n",
            "bf                        680\n",
            "bt                        736\n",
            "bw/me                     609\n",
            "bl                        662\n",
            "m                         798\n",
            "chrom                     775\n",
            "phos                      791\n",
            "cbond                     730\n",
            "marvi                     798\n",
            "exptl                     796\n",
            "ferro                     772\n",
            "corr                      798\n",
            "blue/bright/varn/clean    793\n",
            "lustre                    753\n",
            "jurofm                    798\n",
            "s                         798\n",
            "p                         798\n",
            "shape                       0\n",
            "thick                       0\n",
            "width                       0\n",
            "len                         0\n",
            "oil                       740\n",
            "bore                        0\n",
            "packing                   789\n",
            "classes                     0\n",
            "dtype: int64\n"
          ]
        }
      ]
    },
    {
      "cell_type": "code",
      "source": [
        "dataset1 = dataset1.drop(['family', 'temper_rolling', 'non-ageing', 'surface-finish', 'enamelability', 'bc', 'bf', 'bt', 'bw/me', 'bl', 'm','chrom', 'phos', 'cbond','marvi','exptl', 'ferro','corr', 'blue/bright/varn/clean', 'lustre','jurofm','s','p', 'oil', 'packing'], axis=1)"
      ],
      "metadata": {
        "id": "3rsyY92fw5dw"
      },
      "execution_count": null,
      "outputs": []
    },
    {
      "cell_type": "code",
      "source": [
        "#Filling missing vlues in columns\n",
        "col = ['surface-quality','steel','formability','condition']\n",
        "\n",
        "for c in col:\n",
        "  dataset1[c]= dataset1[c].fillna(dataset1[c].value_counts().idxmax())"
      ],
      "metadata": {
        "id": "FVHVWpsJxBkw"
      },
      "execution_count": null,
      "outputs": []
    },
    {
      "cell_type": "code",
      "source": [
        "from sklearn.preprocessing import LabelEncoder\n",
        "\n",
        "le = ['surface-quality','condition','steel','product-type','shape','classes']\n",
        "\n",
        "for col in le:\n",
        "  lbcode = LabelEncoder()\n",
        "  dataset1[col] = lbcode.fit_transform(dataset1[col])\n",
        "dataset1"
      ],
      "metadata": {
        "colab": {
          "base_uri": "https://localhost:8080/",
          "height": 505
        },
        "id": "Mf1DoJdzEMJh",
        "outputId": "e19bdeb5-8568-49c2-8a69-1d34e072b061"
      },
      "execution_count": null,
      "outputs": [
        {
          "output_type": "execute_result",
          "data": {
            "text/plain": [
              "     product-type  steel  carbon  hardness  condition formability  strength  \\\n",
              "0               0      0       8         0          1           2         0   \n",
              "1               0      3       0         0          1           2         0   \n",
              "2               0      3       0         0          1           2         0   \n",
              "3               0      0       0        60          1           2         0   \n",
              "4               0      0       0        60          1           2         0   \n",
              "..            ...    ...     ...       ...        ...         ...       ...   \n",
              "793             0      0       0        50          1           2         0   \n",
              "794             0      0       0         0          1           1         0   \n",
              "795             0      0       0         0          1           2         0   \n",
              "796             0      0       0         0          1           2         0   \n",
              "797             0      3       0         0          1           2         0   \n",
              "\n",
              "     surface-quality  shape  thick   width   len  bore  classes  \n",
              "0                  3      0  0.700   610.0     0     0        2  \n",
              "1                  1      0  3.200   610.0     0     0        2  \n",
              "2                  1      1  0.700  1300.0   762     0        2  \n",
              "3                  3      0  2.801   385.1     0     0        2  \n",
              "4                  3      1  0.801   255.0   269     0        2  \n",
              "..               ...    ...    ...     ...   ...   ...      ...  \n",
              "793                3      0  1.001    50.0     0     0        2  \n",
              "794                3      1  0.699  1300.0  4880     0        2  \n",
              "795                1      0  0.400   609.9     0     0        2  \n",
              "796                3      1  3.200   610.0  4880     0        2  \n",
              "797                1      1  1.599  1500.0  4170     0        1  \n",
              "\n",
              "[798 rows x 14 columns]"
            ],
            "text/html": [
              "\n",
              "  <div id=\"df-135f72ca-4e81-4bed-8c79-3da6888ba16b\">\n",
              "    <div class=\"colab-df-container\">\n",
              "      <div>\n",
              "<style scoped>\n",
              "    .dataframe tbody tr th:only-of-type {\n",
              "        vertical-align: middle;\n",
              "    }\n",
              "\n",
              "    .dataframe tbody tr th {\n",
              "        vertical-align: top;\n",
              "    }\n",
              "\n",
              "    .dataframe thead th {\n",
              "        text-align: right;\n",
              "    }\n",
              "</style>\n",
              "<table border=\"1\" class=\"dataframe\">\n",
              "  <thead>\n",
              "    <tr style=\"text-align: right;\">\n",
              "      <th></th>\n",
              "      <th>product-type</th>\n",
              "      <th>steel</th>\n",
              "      <th>carbon</th>\n",
              "      <th>hardness</th>\n",
              "      <th>condition</th>\n",
              "      <th>formability</th>\n",
              "      <th>strength</th>\n",
              "      <th>surface-quality</th>\n",
              "      <th>shape</th>\n",
              "      <th>thick</th>\n",
              "      <th>width</th>\n",
              "      <th>len</th>\n",
              "      <th>bore</th>\n",
              "      <th>classes</th>\n",
              "    </tr>\n",
              "  </thead>\n",
              "  <tbody>\n",
              "    <tr>\n",
              "      <th>0</th>\n",
              "      <td>0</td>\n",
              "      <td>0</td>\n",
              "      <td>8</td>\n",
              "      <td>0</td>\n",
              "      <td>1</td>\n",
              "      <td>2</td>\n",
              "      <td>0</td>\n",
              "      <td>3</td>\n",
              "      <td>0</td>\n",
              "      <td>0.700</td>\n",
              "      <td>610.0</td>\n",
              "      <td>0</td>\n",
              "      <td>0</td>\n",
              "      <td>2</td>\n",
              "    </tr>\n",
              "    <tr>\n",
              "      <th>1</th>\n",
              "      <td>0</td>\n",
              "      <td>3</td>\n",
              "      <td>0</td>\n",
              "      <td>0</td>\n",
              "      <td>1</td>\n",
              "      <td>2</td>\n",
              "      <td>0</td>\n",
              "      <td>1</td>\n",
              "      <td>0</td>\n",
              "      <td>3.200</td>\n",
              "      <td>610.0</td>\n",
              "      <td>0</td>\n",
              "      <td>0</td>\n",
              "      <td>2</td>\n",
              "    </tr>\n",
              "    <tr>\n",
              "      <th>2</th>\n",
              "      <td>0</td>\n",
              "      <td>3</td>\n",
              "      <td>0</td>\n",
              "      <td>0</td>\n",
              "      <td>1</td>\n",
              "      <td>2</td>\n",
              "      <td>0</td>\n",
              "      <td>1</td>\n",
              "      <td>1</td>\n",
              "      <td>0.700</td>\n",
              "      <td>1300.0</td>\n",
              "      <td>762</td>\n",
              "      <td>0</td>\n",
              "      <td>2</td>\n",
              "    </tr>\n",
              "    <tr>\n",
              "      <th>3</th>\n",
              "      <td>0</td>\n",
              "      <td>0</td>\n",
              "      <td>0</td>\n",
              "      <td>60</td>\n",
              "      <td>1</td>\n",
              "      <td>2</td>\n",
              "      <td>0</td>\n",
              "      <td>3</td>\n",
              "      <td>0</td>\n",
              "      <td>2.801</td>\n",
              "      <td>385.1</td>\n",
              "      <td>0</td>\n",
              "      <td>0</td>\n",
              "      <td>2</td>\n",
              "    </tr>\n",
              "    <tr>\n",
              "      <th>4</th>\n",
              "      <td>0</td>\n",
              "      <td>0</td>\n",
              "      <td>0</td>\n",
              "      <td>60</td>\n",
              "      <td>1</td>\n",
              "      <td>2</td>\n",
              "      <td>0</td>\n",
              "      <td>3</td>\n",
              "      <td>1</td>\n",
              "      <td>0.801</td>\n",
              "      <td>255.0</td>\n",
              "      <td>269</td>\n",
              "      <td>0</td>\n",
              "      <td>2</td>\n",
              "    </tr>\n",
              "    <tr>\n",
              "      <th>...</th>\n",
              "      <td>...</td>\n",
              "      <td>...</td>\n",
              "      <td>...</td>\n",
              "      <td>...</td>\n",
              "      <td>...</td>\n",
              "      <td>...</td>\n",
              "      <td>...</td>\n",
              "      <td>...</td>\n",
              "      <td>...</td>\n",
              "      <td>...</td>\n",
              "      <td>...</td>\n",
              "      <td>...</td>\n",
              "      <td>...</td>\n",
              "      <td>...</td>\n",
              "    </tr>\n",
              "    <tr>\n",
              "      <th>793</th>\n",
              "      <td>0</td>\n",
              "      <td>0</td>\n",
              "      <td>0</td>\n",
              "      <td>50</td>\n",
              "      <td>1</td>\n",
              "      <td>2</td>\n",
              "      <td>0</td>\n",
              "      <td>3</td>\n",
              "      <td>0</td>\n",
              "      <td>1.001</td>\n",
              "      <td>50.0</td>\n",
              "      <td>0</td>\n",
              "      <td>0</td>\n",
              "      <td>2</td>\n",
              "    </tr>\n",
              "    <tr>\n",
              "      <th>794</th>\n",
              "      <td>0</td>\n",
              "      <td>0</td>\n",
              "      <td>0</td>\n",
              "      <td>0</td>\n",
              "      <td>1</td>\n",
              "      <td>1</td>\n",
              "      <td>0</td>\n",
              "      <td>3</td>\n",
              "      <td>1</td>\n",
              "      <td>0.699</td>\n",
              "      <td>1300.0</td>\n",
              "      <td>4880</td>\n",
              "      <td>0</td>\n",
              "      <td>2</td>\n",
              "    </tr>\n",
              "    <tr>\n",
              "      <th>795</th>\n",
              "      <td>0</td>\n",
              "      <td>0</td>\n",
              "      <td>0</td>\n",
              "      <td>0</td>\n",
              "      <td>1</td>\n",
              "      <td>2</td>\n",
              "      <td>0</td>\n",
              "      <td>1</td>\n",
              "      <td>0</td>\n",
              "      <td>0.400</td>\n",
              "      <td>609.9</td>\n",
              "      <td>0</td>\n",
              "      <td>0</td>\n",
              "      <td>2</td>\n",
              "    </tr>\n",
              "    <tr>\n",
              "      <th>796</th>\n",
              "      <td>0</td>\n",
              "      <td>0</td>\n",
              "      <td>0</td>\n",
              "      <td>0</td>\n",
              "      <td>1</td>\n",
              "      <td>2</td>\n",
              "      <td>0</td>\n",
              "      <td>3</td>\n",
              "      <td>1</td>\n",
              "      <td>3.200</td>\n",
              "      <td>610.0</td>\n",
              "      <td>4880</td>\n",
              "      <td>0</td>\n",
              "      <td>2</td>\n",
              "    </tr>\n",
              "    <tr>\n",
              "      <th>797</th>\n",
              "      <td>0</td>\n",
              "      <td>3</td>\n",
              "      <td>0</td>\n",
              "      <td>0</td>\n",
              "      <td>1</td>\n",
              "      <td>2</td>\n",
              "      <td>0</td>\n",
              "      <td>1</td>\n",
              "      <td>1</td>\n",
              "      <td>1.599</td>\n",
              "      <td>1500.0</td>\n",
              "      <td>4170</td>\n",
              "      <td>0</td>\n",
              "      <td>1</td>\n",
              "    </tr>\n",
              "  </tbody>\n",
              "</table>\n",
              "<p>798 rows × 14 columns</p>\n",
              "</div>\n",
              "      <button class=\"colab-df-convert\" onclick=\"convertToInteractive('df-135f72ca-4e81-4bed-8c79-3da6888ba16b')\"\n",
              "              title=\"Convert this dataframe to an interactive table.\"\n",
              "              style=\"display:none;\">\n",
              "        \n",
              "  <svg xmlns=\"http://www.w3.org/2000/svg\" height=\"24px\"viewBox=\"0 0 24 24\"\n",
              "       width=\"24px\">\n",
              "    <path d=\"M0 0h24v24H0V0z\" fill=\"none\"/>\n",
              "    <path d=\"M18.56 5.44l.94 2.06.94-2.06 2.06-.94-2.06-.94-.94-2.06-.94 2.06-2.06.94zm-11 1L8.5 8.5l.94-2.06 2.06-.94-2.06-.94L8.5 2.5l-.94 2.06-2.06.94zm10 10l.94 2.06.94-2.06 2.06-.94-2.06-.94-.94-2.06-.94 2.06-2.06.94z\"/><path d=\"M17.41 7.96l-1.37-1.37c-.4-.4-.92-.59-1.43-.59-.52 0-1.04.2-1.43.59L10.3 9.45l-7.72 7.72c-.78.78-.78 2.05 0 2.83L4 21.41c.39.39.9.59 1.41.59.51 0 1.02-.2 1.41-.59l7.78-7.78 2.81-2.81c.8-.78.8-2.07 0-2.86zM5.41 20L4 18.59l7.72-7.72 1.47 1.35L5.41 20z\"/>\n",
              "  </svg>\n",
              "      </button>\n",
              "      \n",
              "  <style>\n",
              "    .colab-df-container {\n",
              "      display:flex;\n",
              "      flex-wrap:wrap;\n",
              "      gap: 12px;\n",
              "    }\n",
              "\n",
              "    .colab-df-convert {\n",
              "      background-color: #E8F0FE;\n",
              "      border: none;\n",
              "      border-radius: 50%;\n",
              "      cursor: pointer;\n",
              "      display: none;\n",
              "      fill: #1967D2;\n",
              "      height: 32px;\n",
              "      padding: 0 0 0 0;\n",
              "      width: 32px;\n",
              "    }\n",
              "\n",
              "    .colab-df-convert:hover {\n",
              "      background-color: #E2EBFA;\n",
              "      box-shadow: 0px 1px 2px rgba(60, 64, 67, 0.3), 0px 1px 3px 1px rgba(60, 64, 67, 0.15);\n",
              "      fill: #174EA6;\n",
              "    }\n",
              "\n",
              "    [theme=dark] .colab-df-convert {\n",
              "      background-color: #3B4455;\n",
              "      fill: #D2E3FC;\n",
              "    }\n",
              "\n",
              "    [theme=dark] .colab-df-convert:hover {\n",
              "      background-color: #434B5C;\n",
              "      box-shadow: 0px 1px 3px 1px rgba(0, 0, 0, 0.15);\n",
              "      filter: drop-shadow(0px 1px 2px rgba(0, 0, 0, 0.3));\n",
              "      fill: #FFFFFF;\n",
              "    }\n",
              "  </style>\n",
              "\n",
              "      <script>\n",
              "        const buttonEl =\n",
              "          document.querySelector('#df-135f72ca-4e81-4bed-8c79-3da6888ba16b button.colab-df-convert');\n",
              "        buttonEl.style.display =\n",
              "          google.colab.kernel.accessAllowed ? 'block' : 'none';\n",
              "\n",
              "        async function convertToInteractive(key) {\n",
              "          const element = document.querySelector('#df-135f72ca-4e81-4bed-8c79-3da6888ba16b');\n",
              "          const dataTable =\n",
              "            await google.colab.kernel.invokeFunction('convertToInteractive',\n",
              "                                                     [key], {});\n",
              "          if (!dataTable) return;\n",
              "\n",
              "          const docLinkHtml = 'Like what you see? Visit the ' +\n",
              "            '<a target=\"_blank\" href=https://colab.research.google.com/notebooks/data_table.ipynb>data table notebook</a>'\n",
              "            + ' to learn more about interactive tables.';\n",
              "          element.innerHTML = '';\n",
              "          dataTable['output_type'] = 'display_data';\n",
              "          await google.colab.output.renderOutput(dataTable, element);\n",
              "          const docLink = document.createElement('div');\n",
              "          docLink.innerHTML = docLinkHtml;\n",
              "          element.appendChild(docLink);\n",
              "        }\n",
              "      </script>\n",
              "    </div>\n",
              "  </div>\n",
              "  "
            ]
          },
          "metadata": {},
          "execution_count": 77
        }
      ]
    },
    {
      "cell_type": "code",
      "source": [
        "dataset1['formability'] = dataset1['formability'].astype(int)"
      ],
      "metadata": {
        "id": "EyLVOPoXyql4"
      },
      "execution_count": null,
      "outputs": []
    },
    {
      "cell_type": "code",
      "source": [
        "from sklearn.model_selection import train_test_split\n",
        "\n",
        "X_que1 = dataset1.drop('classes', axis=1)\n",
        "y_que1 = dataset1['classes']\n",
        "\n",
        "# Split the data into training and testing sets\n",
        "X_train_que1, X_test_que1, y_train_que1, y_test_que1 = train_test_split(X_que1, y_que1, test_size=0.35, random_state=42)"
      ],
      "metadata": {
        "id": "pvUinPoJzIIZ"
      },
      "execution_count": null,
      "outputs": []
    },
    {
      "cell_type": "code",
      "source": [
        "from sklearn.preprocessing import StandardScaler\n",
        "\n",
        "scaler = StandardScaler()\n",
        "X_train_std = scaler.fit_transform(X_train_que1.select_dtypes(include=np.number))\n",
        "X_test_std = scaler.transform(X_test_que1.select_dtypes(include=np.number))"
      ],
      "metadata": {
        "id": "mL1ldEny7KB5"
      },
      "execution_count": null,
      "outputs": []
    },
    {
      "cell_type": "markdown",
      "source": [
        "### **Part 3**"
      ],
      "metadata": {
        "id": "MahP_sJj4ZRH"
      }
    },
    {
      "cell_type": "code",
      "source": [
        "from sklearn.svm import SVC\n",
        "from sklearn.ensemble import RandomForestClassifier\n",
        "from sklearn.neighbors import KNeighborsClassifier\n",
        "from sklearn.model_selection import cross_val_score, KFold\n",
        "\n",
        "# Define the models\n",
        "models = []\n",
        "models.append(('SVM', SVC()))\n",
        "models.append(('Random Forest', RandomForestClassifier(n_estimators=100, max_depth=5, random_state=42)))\n",
        "models.append(('KNN', KNeighborsClassifier(n_neighbors=5)))\n",
        "\n",
        "# Evaluate each model using 5-fold cross-validation\n",
        "results = []\n",
        "results_std=[]\n",
        "names = []\n",
        "for name, model in models:\n",
        "    # kfold = KFold(n_splits=5, shuffle=True, random_state=42)\n",
        "    cv_results = cross_val_score(model, X_train_que1, y_train_que1, cv=5)\n",
        "    results.append(cv_results)\n",
        "    cv_results_std = cross_val_score(model, X_train_std, y_train_que1, cv=5)\n",
        "    results_std.append(cv_results_std)\n",
        "    names.append(name)\n",
        "    print(f'{name}: \\nMean accuracy: {cv_results.mean():.4f} \\nStd deviation: {cv_results.std():.4f}')\n",
        "    print(f'{name}: \\nMean accuracy std: {cv_results_std.mean():.4f} \\nStd deviation: {cv_results_std.std():.4f}')\n",
        "    print(\"\\n\")\n",
        " \n",
        "# Plot the results\n",
        "plt.plot(range(1,6), results[0], '-o', label=names[0])\n",
        "plt.plot(range(1,6), results[1], '-o', label=names[1])\n",
        "plt.plot(range(1,6), results[2], '-o', label=names[2])\n",
        "plt.title('5-Fold Cross-Validation Scores')\n",
        "plt.xlabel('Classifier')\n",
        "plt.ylabel('Accuracy')\n",
        "plt.legend()\n",
        "plt.show()\n"
      ],
      "metadata": {
        "id": "vCv2hRseJnOy",
        "colab": {
          "base_uri": "https://localhost:8080/",
          "height": 711
        },
        "outputId": "bd21fa1d-9ce2-401b-fd7b-7cbcdfd10d9b"
      },
      "execution_count": null,
      "outputs": [
        {
          "output_type": "stream",
          "name": "stdout",
          "text": [
            "SVM: \n",
            "Mean accuracy: 0.7548 \n",
            "Std deviation: 0.0040\n",
            "SVM: \n",
            "Mean accuracy std: 0.8417 \n",
            "Std deviation: 0.0246\n",
            "\n",
            "\n",
            "Random Forest: \n",
            "Mean accuracy: 0.8552 \n",
            "Std deviation: 0.0194\n",
            "Random Forest: \n",
            "Mean accuracy std: 0.8552 \n",
            "Std deviation: 0.0194\n",
            "\n",
            "\n",
            "KNN: \n",
            "Mean accuracy: 0.7492 \n",
            "Std deviation: 0.0331\n",
            "KNN: \n",
            "Mean accuracy std: 0.8361 \n",
            "Std deviation: 0.0399\n",
            "\n",
            "\n"
          ]
        },
        {
          "output_type": "display_data",
          "data": {
            "text/plain": [
              "<Figure size 432x288 with 1 Axes>"
            ],
            "image/png": "[encoded data removed]"
          },
          "metadata": {
            "needs_background": "light"
          }
        }
      ]
    },
    {
      "cell_type": "code",
      "source": [
        "plt.plot(range(1,6), results_std[0], '-o', label=names[0])\n",
        "plt.plot(range(1,6), results_std[1], '-o', label=names[1])\n",
        "plt.plot(range(1,6), results_std[2], '-o', label=names[2])\n",
        "plt.xlabel('Fold')\n",
        "plt.ylabel('Accuracy')\n",
        "plt.title('5-Fold Cross-Validation Scores with standardization')\n",
        "plt.legend()\n",
        "plt.show()"
      ],
      "metadata": {
        "colab": {
          "base_uri": "https://localhost:8080/",
          "height": 295
        },
        "id": "6tbQ1c9d3qzy",
        "outputId": "fcd3d503-0165-48b5-919e-1690617b4726"
      },
      "execution_count": null,
      "outputs": [
        {
          "output_type": "display_data",
          "data": {
            "text/plain": [
              "<Figure size 432x288 with 1 Axes>"
            ],
            "image/png": "[encoded data removed]"
          },
          "metadata": {
            "needs_background": "light"
          }
        }
      ]
    },
    {
      "cell_type": "markdown",
      "source": [
        "### **Part 4**"
      ],
      "metadata": {
        "id": "OtYOHyk-4eXS"
      }
    },
    {
      "cell_type": "code",
      "source": [
        "import numpy as np\n",
        "from sklearn.decomposition import PCA\n",
        "\n",
        "class MyPCA:\n",
        "    def __init__(self, n_components=None):\n",
        "        self.n_components = n_components\n",
        "        self.mean = None\n",
        "        self.std = None\n",
        "        self.eigenvectors = None\n",
        "        self.eigenvalues = None\n",
        "        self.components = None\n",
        "        \n",
        "    def fit_transform(self, X):\n",
        "        # # Check for and remove rows with NaN or inf values\n",
        "        # X = X[np.isfinite(X).all(axis=1)]\n",
        "\n",
        "        # Center the data\n",
        "        self.mean = np.mean(X, axis=0)\n",
        "        self.std = np.std(X, axis=0)\n",
        "        X_centered = X - np.mean(X, axis=0)\n",
        "        \n",
        "        # Compute the covariance matrix\n",
        "        cov = np.cov(X_centered.T)\n",
        "        \n",
        "        # Compute eigenvectors and eigenvalues\n",
        "        self.eigenvalues, self.eigenvectors = np.linalg.eig(cov)\n",
        "        \n",
        "        # Sort eigenvectors by descending eigenvalues\n",
        "        idxs = self.eigenvalues.argsort()[::-1]\n",
        "        self.eigenvalues = self.eigenvalues[idxs]\n",
        "        self.eigenvectors = self.eigenvectors[:, idxs]\n",
        "        \n",
        "        # Compute principal components\n",
        "        if self.n_components is not None:\n",
        "            self.components = self.eigenvectors[:, :self.n_components]\n",
        "        else:\n",
        "            self.components = self.eigenvectors\n",
        "            \n",
        "        # Transform data to new coordinates\n",
        "        X_transformed = np.dot(X_centered, self.components)\n",
        "        \n",
        "        return X_transformed\n",
        "    \n",
        "    def transform(self, X):\n",
        "        # Check for and remove rows with NaN or inf values\n",
        "        # X = X[np.isfinite(X).all(axis=1)]\n",
        "\n",
        "        # Center the data\n",
        "        X_centered = X - np.mean(X, axis=0)\n",
        "        \n",
        "        # Transform data to new coordinates\n",
        "        X_transformed = np.dot(X_centered, self.components)\n",
        "        \n",
        "        return X_transformed\n"
      ],
      "metadata": {
        "id": "vekT45l44gze"
      },
      "execution_count": null,
      "outputs": []
    },
    {
      "cell_type": "markdown",
      "source": [
        "### **Part 5**"
      ],
      "metadata": {
        "id": "0Nh1M21tBD1I"
      }
    },
    {
      "cell_type": "code",
      "source": [
        "# Perform PCA\n",
        "pca = MyPCA()\n",
        "X_pca = pca.fit_transform(X_train_std)\n",
        "\n",
        "# Compute variance explained\n",
        "variance_explained = np.cumsum(pca.eigenvalues) / np.sum(pca.eigenvalues)\n",
        "print(\"Explained Variance: \", variance_explained)\n",
        "# Plot variance explained\n",
        "plt.bar(range(1, len(variance_explained) + 1), variance_explained)\n",
        "plt.xlabel('Number of principal components')\n",
        "plt.ylabel('Variance explained')\n",
        "plt.show()\n",
        "\n",
        "# Plot eigenvectors and data\n",
        "plt.scatter(X_pca[:, 0], X_pca[:, 1], alpha=0.2)\n",
        "for i, (eigenvector, feature) in enumerate(zip(pca.eigenvectors[:, :2], X_que1.columns)):\n",
        "    plt.arrow(0, 0, eigenvector[0], eigenvector[1], width=0.05, head_width=0.15, head_length=0.15,\n",
        "              length_includes_head=True, color='r')\n",
        "    plt.text(eigenvector[0] * 1.5, eigenvector[1] * 1.5, feature, color='r', ha='center', va='center')\n",
        "plt.xlabel('Principal component 1')\n",
        "plt.ylabel('Principal component 2')\n",
        "plt.show()\n"
      ],
      "metadata": {
        "colab": {
          "base_uri": "https://localhost:8080/",
          "height": 613
        },
        "id": "HkRR6hSM6s4K",
        "outputId": "b503edae-6c11-4eb9-b0af-8958dddffcf8"
      },
      "execution_count": null,
      "outputs": [
        {
          "output_type": "stream",
          "name": "stdout",
          "text": [
            "Explained Variance:  [0.17469715 0.31382663 0.4354706  0.54638578 0.64326063 0.71591599\n",
            " 0.78551358 0.84659218 0.89240239 0.93676016 0.97277021 1.\n",
            " 1.        ]\n"
          ]
        },
        {
          "output_type": "display_data",
          "data": {
            "text/plain": [
              "<Figure size 432x288 with 1 Axes>"
            ],
            "image/png": "[encoded data removed]"
          },
          "metadata": {
            "needs_background": "light"
          }
        },
        {
          "output_type": "display_data",
          "data": {
            "text/plain": [
              "<Figure size 432x288 with 1 Axes>"
            ],
            "image/png": "[encoded data removed]"
          },
          "metadata": {
            "needs_background": "light"
          }
        }
      ]
    },
    {
      "cell_type": "markdown",
      "source": [
        "### **Part 6**"
      ],
      "metadata": {
        "id": "jyo_ff1iCagM"
      }
    },
    {
      "cell_type": "code",
      "source": [
        "from sklearn.tree import DecisionTreeClassifier\n",
        "from sklearn.metrics import accuracy_score\n",
        "\n",
        "def cross_val_randomforest(X,y):\n",
        "    models_rf = []\n",
        "    accuracy_rf = []\n",
        "    kf = KFold(n_splits=10, random_state=123, shuffle=True)\n",
        "    for train_index, test_index in kf.split(X):\n",
        "        X_train, X_test = X.iloc[train_index,:], X.iloc[test_index,:]\n",
        "        y_train, y_test = y.iloc[train_index], y.iloc[test_index]\n",
        "        clf = RandomForestClassifier(n_estimators=100, max_depth=5, random_state=123)\n",
        "        clf.fit(X_train, y_train)\n",
        "        models_rf.append(clf)\n",
        "        y_pred = clf.predict(X_test)\n",
        "        accuracy_rf.append(accuracy_score(y_test,y_pred))\n",
        "    best_model_rf = models_rf[np.argmax(accuracy_rf)]\n",
        "    return best_model_rf,models_rf,accuracy_rf\n",
        "def cross_val_dt(X,y):\n",
        "    models = []\n",
        "    accuracies = []\n",
        "    kf = KFold(n_splits=10, random_state=123, shuffle=True)\n",
        "    for train_idx, test_idx in kf.split(X, y):\n",
        "        X_train, X_test = X.iloc[train_idx,:], X.iloc[test_idx,:]\n",
        "        y_train, y_test = y.iloc[train_idx], y.iloc[test_idx]\n",
        "        clf = DecisionTreeClassifier(random_state=1)\n",
        "        clf.fit(X_train,y_train)\n",
        "        y_pred = clf.predict(X_test)\n",
        "        acc = accuracy_score(y_test, y_pred)\n",
        "        models.append(clf)\n",
        "        accuracies.append(acc)\n",
        "    return models,accuracies"
      ],
      "metadata": {
        "id": "osl32-bFFVy_"
      },
      "execution_count": null,
      "outputs": []
    },
    {
      "cell_type": "code",
      "source": [
        "best_rf_model_pca, models_rf_pca, accuracy_rf_pca = cross_val_randomforest(pd.DataFrame(X_pca), y_que1)\n",
        "plt.plot(accuracy_rf_pca)\n",
        "plt.title(\"Performance of Random Forest Classifier after PCA on validation datasets\")\n",
        "plt.ylabel('Accuracy')\n",
        "plt.xlabel('Number of folds')\n",
        "plt.show()\n",
        "\n",
        "models_dt_pca, accuracy_dt_pca = cross_val_dt(pd.DataFrame(X_pca), y_train_que1)\n",
        "models_dt,accuracy_dt = cross_val_dt(X_que1,y_que1)"
      ],
      "metadata": {
        "id": "W5KPSWJgFbXZ",
        "colab": {
          "base_uri": "https://localhost:8080/",
          "height": 295
        },
        "outputId": "2190c49f-8859-4cdb-8e4e-af97fdf9000d"
      },
      "execution_count": null,
      "outputs": [
        {
          "output_type": "display_data",
          "data": {
            "text/plain": [
              "<Figure size 432x288 with 1 Axes>"
            ],
            "image/png": "[encoded data removed]"
          },
          "metadata": {
            "needs_background": "light"
          }
        }
      ]
    },
    {
      "cell_type": "code",
      "source": [
        "plt.plot(accuracy_dt_pca, label='After PCA')\n",
        "plt.plot(accuracy_dt, label='Before PCA')\n",
        "plt.legend()\n",
        "plt.title('Performance of Decision Tree Classifier before and after PCA')\n",
        "plt.ylabel('Accuracy')\n",
        "plt.xlabel('Number of folds')\n",
        "plt.show()\n",
        "\n",
        "print('Average accuracy of Decision Tree before PCA: ', np.array(accuracy_dt).mean())\n",
        "print(\"Average Accuracy of Decision Tree after PCA: \", np.array(accuracy_dt_pca).mean())\n"
      ],
      "metadata": {
        "colab": {
          "base_uri": "https://localhost:8080/",
          "height": 330
        },
        "id": "GwGIVpHZLL2F",
        "outputId": "fdcee772-58b5-4f62-d456-479b5cc01cd9"
      },
      "execution_count": null,
      "outputs": [
        {
          "output_type": "display_data",
          "data": {
            "text/plain": [
              "<Figure size 432x288 with 1 Axes>"
            ],
            "image/png": "[encoded data removed]"
          },
          "metadata": {
            "needs_background": "light"
          }
        },
        {
          "output_type": "stream",
          "name": "stdout",
          "text": [
            "Average accuracy of Decision Tree before PCA:  0.9286392405063291\n",
            "Average Accuracy of Decision Tree after PCA:  0.8687028657616894\n"
          ]
        }
      ]
    },
    {
      "cell_type": "markdown",
      "source": [
        "### **Part 7**"
      ],
      "metadata": {
        "id": "0GyT4Ur9LZKV"
      }
    },
    {
      "cell_type": "code",
      "source": [
        "def find_optimum_components(X,y):\n",
        "  accuracy_pca = []\n",
        "  for i in range(2,X.shape[1]):\n",
        "    pca = MyPCA()\n",
        "    x_reduced = pca.fit_transform(X)\n",
        "    x_train, x_test, y_train, y_test = train_test_split(pd.DataFrame(x_reduced), y, train_size = 0.65, random_state = 42)\n",
        "    models_rf_pca,accuracy_rf_pca = cross_val_dt(x_train,y_train)\n",
        "    accuracy_pca.append(np.array(accuracy_rf_pca).max())\n",
        "  plt.plot(range(2,X.shape[1]),accuracy_pca)\n",
        "  plt.title('Accuracy of Decision Tree as PCA components change')\n",
        "  plt.ylabel('Accuracy')\n",
        "  plt.xlabel('No of Components')\n",
        "  return np.argmax(np.array(accuracy_pca))+2\n",
        "\n",
        "find_optimum_components(X_que1, y_que1)"
      ],
      "metadata": {
        "colab": {
          "base_uri": "https://localhost:8080/",
          "height": 312
        },
        "id": "lfZLOw9lLb5c",
        "outputId": "4767fddf-e2a7-4fb1-8e7c-abbd0150eff5"
      },
      "execution_count": null,
      "outputs": [
        {
          "output_type": "execute_result",
          "data": {
            "text/plain": [
              "2"
            ]
          },
          "metadata": {},
          "execution_count": 88
        },
        {
          "output_type": "display_data",
          "data": {
            "text/plain": [
              "<Figure size 432x288 with 1 Axes>"
            ],
            "image/png": "[encoded data removed]"
          },
          "metadata": {
            "needs_background": "light"
          }
        }
      ]
    },
    {
      "cell_type": "markdown",
      "source": [
        "## **Question 2**"
      ],
      "metadata": {
        "id": "Rs1LvEBdX0ct"
      }
    },
    {
      "cell_type": "code",
      "source": [
        "import numpy as np\n",
        "import pandas as pd\n",
        "import matplotlib.pyplot as plt\n",
        "import seaborn as sns\n",
        "from sklearn.preprocessing import StandardScaler\n",
        "from sklearn.discriminant_analysis import LinearDiscriminantAnalysis as LD\n",
        "from sklearn.model_selection import train_test_split\n",
        "\n",
        "dataset2 = pd.read_csv(\"/content/drive/MyDrive/prml/lab-7/wine.csv\", header=None,names=['Classes','Alcohol','Malic acid','Ash','Alcalinity of ash','Magnesium','Total phenols','Flavanoids','Nonflavanoid phenols','Proanthocyanins','Color intensity','Hue','OD280/OD315 of diluted wines','Proline'])\n",
        "dataset2.head()"
      ],
      "metadata": {
        "colab": {
          "base_uri": "https://localhost:8080/",
          "height": 305
        },
        "id": "kFIPwmgaY-Jw",
        "outputId": "17ec32b2-2139-440c-b453-afa411d392a9"
      },
      "execution_count": null,
      "outputs": [
        {
          "output_type": "execute_result",
          "data": {
            "text/plain": [
              "   Classes  Alcohol  Malic acid   Ash  Alcalinity of ash  Magnesium  \\\n",
              "0        1    14.23        1.71  2.43               15.6        127   \n",
              "1        1    13.20        1.78  2.14               11.2        100   \n",
              "2        1    13.16        2.36  2.67               18.6        101   \n",
              "3        1    14.37        1.95  2.50               16.8        113   \n",
              "4        1    13.24        2.59  2.87               21.0        118   \n",
              "\n",
              "   Total phenols  Flavanoids  Nonflavanoid phenols  Proanthocyanins  \\\n",
              "0           2.80        3.06                  0.28             2.29   \n",
              "1           2.65        2.76                  0.26             1.28   \n",
              "2           2.80        3.24                  0.30             2.81   \n",
              "3           3.85        3.49                  0.24             2.18   \n",
              "4           2.80        2.69                  0.39             1.82   \n",
              "\n",
              "   Color intensity   Hue  OD280/OD315 of diluted wines  Proline  \n",
              "0             5.64  1.04                          3.92     1065  \n",
              "1             4.38  1.05                          3.40     1050  \n",
              "2             5.68  1.03                          3.17     1185  \n",
              "3             7.80  0.86                          3.45     1480  \n",
              "4             4.32  1.04                          2.93      735  "
            ],
            "text/html": [
              "\n",
              "  <div id=\"df-a419f103-69b2-4433-8708-b99e7d055fec\">\n",
              "    <div class=\"colab-df-container\">\n",
              "      <div>\n",
              "<style scoped>\n",
              "    .dataframe tbody tr th:only-of-type {\n",
              "        vertical-align: middle;\n",
              "    }\n",
              "\n",
              "    .dataframe tbody tr th {\n",
              "        vertical-align: top;\n",
              "    }\n",
              "\n",
              "    .dataframe thead th {\n",
              "        text-align: right;\n",
              "    }\n",
              "</style>\n",
              "<table border=\"1\" class=\"dataframe\">\n",
              "  <thead>\n",
              "    <tr style=\"text-align: right;\">\n",
              "      <th></th>\n",
              "      <th>Classes</th>\n",
              "      <th>Alcohol</th>\n",
              "      <th>Malic acid</th>\n",
              "      <th>Ash</th>\n",
              "      <th>Alcalinity of ash</th>\n",
              "      <th>Magnesium</th>\n",
              "      <th>Total phenols</th>\n",
              "      <th>Flavanoids</th>\n",
              "      <th>Nonflavanoid phenols</th>\n",
              "      <th>Proanthocyanins</th>\n",
              "      <th>Color intensity</th>\n",
              "      <th>Hue</th>\n",
              "      <th>OD280/OD315 of diluted wines</th>\n",
              "      <th>Proline</th>\n",
              "    </tr>\n",
              "  </thead>\n",
              "  <tbody>\n",
              "    <tr>\n",
              "      <th>0</th>\n",
              "      <td>1</td>\n",
              "      <td>14.23</td>\n",
              "      <td>1.71</td>\n",
              "      <td>2.43</td>\n",
              "      <td>15.6</td>\n",
              "      <td>127</td>\n",
              "      <td>2.80</td>\n",
              "      <td>3.06</td>\n",
              "      <td>0.28</td>\n",
              "      <td>2.29</td>\n",
              "      <td>5.64</td>\n",
              "      <td>1.04</td>\n",
              "      <td>3.92</td>\n",
              "      <td>1065</td>\n",
              "    </tr>\n",
              "    <tr>\n",
              "      <th>1</th>\n",
              "      <td>1</td>\n",
              "      <td>13.20</td>\n",
              "      <td>1.78</td>\n",
              "      <td>2.14</td>\n",
              "      <td>11.2</td>\n",
              "      <td>100</td>\n",
              "      <td>2.65</td>\n",
              "      <td>2.76</td>\n",
              "      <td>0.26</td>\n",
              "      <td>1.28</td>\n",
              "      <td>4.38</td>\n",
              "      <td>1.05</td>\n",
              "      <td>3.40</td>\n",
              "      <td>1050</td>\n",
              "    </tr>\n",
              "    <tr>\n",
              "      <th>2</th>\n",
              "      <td>1</td>\n",
              "      <td>13.16</td>\n",
              "      <td>2.36</td>\n",
              "      <td>2.67</td>\n",
              "      <td>18.6</td>\n",
              "      <td>101</td>\n",
              "      <td>2.80</td>\n",
              "      <td>3.24</td>\n",
              "      <td>0.30</td>\n",
              "      <td>2.81</td>\n",
              "      <td>5.68</td>\n",
              "      <td>1.03</td>\n",
              "      <td>3.17</td>\n",
              "      <td>1185</td>\n",
              "    </tr>\n",
              "    <tr>\n",
              "      <th>3</th>\n",
              "      <td>1</td>\n",
              "      <td>14.37</td>\n",
              "      <td>1.95</td>\n",
              "      <td>2.50</td>\n",
              "      <td>16.8</td>\n",
              "      <td>113</td>\n",
              "      <td>3.85</td>\n",
              "      <td>3.49</td>\n",
              "      <td>0.24</td>\n",
              "      <td>2.18</td>\n",
              "      <td>7.80</td>\n",
              "      <td>0.86</td>\n",
              "      <td>3.45</td>\n",
              "      <td>1480</td>\n",
              "    </tr>\n",
              "    <tr>\n",
              "      <th>4</th>\n",
              "      <td>1</td>\n",
              "      <td>13.24</td>\n",
              "      <td>2.59</td>\n",
              "      <td>2.87</td>\n",
              "      <td>21.0</td>\n",
              "      <td>118</td>\n",
              "      <td>2.80</td>\n",
              "      <td>2.69</td>\n",
              "      <td>0.39</td>\n",
              "      <td>1.82</td>\n",
              "      <td>4.32</td>\n",
              "      <td>1.04</td>\n",
              "      <td>2.93</td>\n",
              "      <td>735</td>\n",
              "    </tr>\n",
              "  </tbody>\n",
              "</table>\n",
              "</div>\n",
              "      <button class=\"colab-df-convert\" onclick=\"convertToInteractive('df-a419f103-69b2-4433-8708-b99e7d055fec')\"\n",
              "              title=\"Convert this dataframe to an interactive table.\"\n",
              "              style=\"display:none;\">\n",
              "        \n",
              "  <svg xmlns=\"http://www.w3.org/2000/svg\" height=\"24px\"viewBox=\"0 0 24 24\"\n",
              "       width=\"24px\">\n",
              "    <path d=\"M0 0h24v24H0V0z\" fill=\"none\"/>\n",
              "    <path d=\"M18.56 5.44l.94 2.06.94-2.06 2.06-.94-2.06-.94-.94-2.06-.94 2.06-2.06.94zm-11 1L8.5 8.5l.94-2.06 2.06-.94-2.06-.94L8.5 2.5l-.94 2.06-2.06.94zm10 10l.94 2.06.94-2.06 2.06-.94-2.06-.94-.94-2.06-.94 2.06-2.06.94z\"/><path d=\"M17.41 7.96l-1.37-1.37c-.4-.4-.92-.59-1.43-.59-.52 0-1.04.2-1.43.59L10.3 9.45l-7.72 7.72c-.78.78-.78 2.05 0 2.83L4 21.41c.39.39.9.59 1.41.59.51 0 1.02-.2 1.41-.59l7.78-7.78 2.81-2.81c.8-.78.8-2.07 0-2.86zM5.41 20L4 18.59l7.72-7.72 1.47 1.35L5.41 20z\"/>\n",
              "  </svg>\n",
              "      </button>\n",
              "      \n",
              "  <style>\n",
              "    .colab-df-container {\n",
              "      display:flex;\n",
              "      flex-wrap:wrap;\n",
              "      gap: 12px;\n",
              "    }\n",
              "\n",
              "    .colab-df-convert {\n",
              "      background-color: #E8F0FE;\n",
              "      border: none;\n",
              "      border-radius: 50%;\n",
              "      cursor: pointer;\n",
              "      display: none;\n",
              "      fill: #1967D2;\n",
              "      height: 32px;\n",
              "      padding: 0 0 0 0;\n",
              "      width: 32px;\n",
              "    }\n",
              "\n",
              "    .colab-df-convert:hover {\n",
              "      background-color: #E2EBFA;\n",
              "      box-shadow: 0px 1px 2px rgba(60, 64, 67, 0.3), 0px 1px 3px 1px rgba(60, 64, 67, 0.15);\n",
              "      fill: #174EA6;\n",
              "    }\n",
              "\n",
              "    [theme=dark] .colab-df-convert {\n",
              "      background-color: #3B4455;\n",
              "      fill: #D2E3FC;\n",
              "    }\n",
              "\n",
              "    [theme=dark] .colab-df-convert:hover {\n",
              "      background-color: #434B5C;\n",
              "      box-shadow: 0px 1px 3px 1px rgba(0, 0, 0, 0.15);\n",
              "      filter: drop-shadow(0px 1px 2px rgba(0, 0, 0, 0.3));\n",
              "      fill: #FFFFFF;\n",
              "    }\n",
              "  </style>\n",
              "\n",
              "      <script>\n",
              "        const buttonEl =\n",
              "          document.querySelector('#df-a419f103-69b2-4433-8708-b99e7d055fec button.colab-df-convert');\n",
              "        buttonEl.style.display =\n",
              "          google.colab.kernel.accessAllowed ? 'block' : 'none';\n",
              "\n",
              "        async function convertToInteractive(key) {\n",
              "          const element = document.querySelector('#df-a419f103-69b2-4433-8708-b99e7d055fec');\n",
              "          const dataTable =\n",
              "            await google.colab.kernel.invokeFunction('convertToInteractive',\n",
              "                                                     [key], {});\n",
              "          if (!dataTable) return;\n",
              "\n",
              "          const docLinkHtml = 'Like what you see? Visit the ' +\n",
              "            '<a target=\"_blank\" href=https://colab.research.google.com/notebooks/data_table.ipynb>data table notebook</a>'\n",
              "            + ' to learn more about interactive tables.';\n",
              "          element.innerHTML = '';\n",
              "          dataTable['output_type'] = 'display_data';\n",
              "          await google.colab.output.renderOutput(dataTable, element);\n",
              "          const docLink = document.createElement('div');\n",
              "          docLink.innerHTML = docLinkHtml;\n",
              "          element.appendChild(docLink);\n",
              "        }\n",
              "      </script>\n",
              "    </div>\n",
              "  </div>\n",
              "  "
            ]
          },
          "metadata": {},
          "execution_count": 121
        }
      ]
    },
    {
      "cell_type": "code",
      "source": [
        "dataset2.info()"
      ],
      "metadata": {
        "colab": {
          "base_uri": "https://localhost:8080/"
        },
        "id": "ye5dWr0gbhck",
        "outputId": "abc6cb77-01ec-4470-c062-5839c990ddee"
      },
      "execution_count": null,
      "outputs": [
        {
          "output_type": "stream",
          "name": "stdout",
          "text": [
            "<class 'pandas.core.frame.DataFrame'>\n",
            "RangeIndex: 178 entries, 0 to 177\n",
            "Data columns (total 14 columns):\n",
            " #   Column                        Non-Null Count  Dtype  \n",
            "---  ------                        --------------  -----  \n",
            " 0   Classes                       178 non-null    int64  \n",
            " 1   Alcohol                       178 non-null    float64\n",
            " 2   Malic acid                    178 non-null    float64\n",
            " 3   Ash                           178 non-null    float64\n",
            " 4   Alcalinity of ash             178 non-null    float64\n",
            " 5   Magnesium                     178 non-null    int64  \n",
            " 6   Total phenols                 178 non-null    float64\n",
            " 7   Flavanoids                    178 non-null    float64\n",
            " 8   Nonflavanoid phenols          178 non-null    float64\n",
            " 9   Proanthocyanins               178 non-null    float64\n",
            " 10  Color intensity               178 non-null    float64\n",
            " 11  Hue                           178 non-null    float64\n",
            " 12  OD280/OD315 of diluted wines  178 non-null    float64\n",
            " 13  Proline                       178 non-null    int64  \n",
            "dtypes: float64(11), int64(3)\n",
            "memory usage: 19.6 KB\n"
          ]
        }
      ]
    },
    {
      "cell_type": "code",
      "source": [
        "X_que2 = dataset2.drop(\"Classes\", axis=1)\n",
        "y_que2 = dataset2[\"Classes\"]\n",
        "\n",
        "# Scale the data\n",
        "scaler = StandardScaler()\n",
        "X_scaled_que2 = scaler.fit_transform(X_que2)\n",
        "\n",
        "X_train, X_test, y_train, y_test = train_test_split(X_scaled_que2, y_que2, test_size=0.2, random_state=42)"
      ],
      "metadata": {
        "id": "SVs8KJ71dP6y"
      },
      "execution_count": null,
      "outputs": []
    },
    {
      "cell_type": "markdown",
      "source": [
        "### **Part 1**"
      ],
      "metadata": {
        "id": "Xq6DxAXfY2SC"
      }
    },
    {
      "cell_type": "code",
      "source": [
        "class LDA:\n",
        "    \n",
        "    def __init__(self):\n",
        "        pass\n",
        "    \n",
        "    #Function to compute within-class and between-class scatter matrices\n",
        "    def scatter_matrices(self, X, y):\n",
        "\n",
        "        # Total number of samples\n",
        "        n_samples = X.shape[0]\n",
        "        # Number of classes\n",
        "        n_classes = len(np.unique(y))\n",
        "        # Mean of each class\n",
        "        class_means = np.zeros((n_classes, X.shape[1]))\n",
        "\n",
        "        for c in range(n_classes):\n",
        "            class_means[c, :] = np.mean(X[y == c+1, :], axis=0)\n",
        "        # Overall mean\n",
        "        overall_mean = np.mean(X, axis=0)\n",
        "\n",
        "        # Initialize within-class and between-class scatter matrices\n",
        "        S_W = np.zeros((X.shape[1], X.shape[1]))\n",
        "        S_B = np.zeros((X.shape[1], X.shape[1]))\n",
        "\n",
        "        # Compute within-class and between-class scatter matrices\n",
        "        for c in range(n_classes):\n",
        "            # Scatter matrix for class c\n",
        "            class_scatter = np.zeros((X.shape[1], X.shape[1]))\n",
        "            for x in X[y == c+1, :]:\n",
        "                x = x.reshape(-1, 1)\n",
        "                class_mean = class_means[c, :].reshape(-1, 1)\n",
        "                class_scatter += (x - class_mean).dot((x - class_mean).T)\n",
        "            S_W += class_scatter\n",
        "            between_class = n_samples * (class_means[c, :] - overall_mean).reshape(-1, 1).dot((class_means[c, :] - overall_mean).reshape(-1, 1).T)\n",
        "            S_B += between_class\n",
        "        return S_W, S_B\n",
        "    \n",
        "    #Function to automatically select number of linear discriminants\n",
        "    def select_dimensions(self, X, y, var_retained):\n",
        "\n",
        "        # Compute scatter matrices\n",
        "        S_W, S_B = self.scatter_matrices(X, y)\n",
        "\n",
        "        # Compute eigenvalues and eigenvectors of the matrix S_W^-1 * S_B\n",
        "        eig_vals, eig_vecs = np.linalg.eig(np.linalg.inv(S_W).dot(S_B))\n",
        "\n",
        "        # Sort eigenvalues in decreasing order and corresponding eigenvectors\n",
        "        sorted_indices = np.argsort(eig_vals)[::-1]\n",
        "        eig_vals = eig_vals[sorted_indices]\n",
        "        eig_vecs = eig_vecs[:, sorted_indices]\n",
        "\n",
        "        # Compute percentage of variance explained by each linear discriminant\n",
        "        var_exp = np.cumsum(eig_vals) / np.sum(eig_vals)\n",
        "\n",
        "        # Find number of linear discriminants needed to retain desired percentage of variance\n",
        "        n_dimensions = np.argmax(var_exp >= var_retained) + 1\n",
        "        return eig_vecs[:, :n_dimensions]\n",
        "\n"
      ],
      "metadata": {
        "id": "5NOzJs9Thk1_"
      },
      "execution_count": null,
      "outputs": []
    },
    {
      "cell_type": "markdown",
      "source": [
        "### **Part 2**"
      ],
      "metadata": {
        "id": "1cyzKL0IioA8"
      }
    },
    {
      "cell_type": "code",
      "source": [
        "#Function to vary variance and visualize feature space\n",
        "# Compute linear discriminants\n",
        "lda=LDA()\n",
        "var_retained_values = [0.75, 0.85, 0.95]\n",
        "for var_retained in var_retained_values:\n",
        "    # Compute linear discriminants\n",
        "    W = lda.select_dimensions(X_scaled_que2, y_que2, var_retained)\n",
        "\n",
        "    # Project data onto selected linear discriminants\n",
        "    X_lda = X_scaled_que2.dot(W)\n",
        "    \n",
        "    # Plot feature space\n",
        "    colors = ['r', 'g', 'b']\n",
        "    markers = ['s', 'x', 'o']\n",
        "    for c, color, marker in zip(np.unique(y_que2), colors, markers):\n",
        "        plt.scatter(X_lda[y_que2 == c, 0], X_lda[y_que2 == c, 1], c=color, marker=marker, label=c, alpha=0.5)\n",
        "    plt.xlabel('Linear Discriminant 1')\n",
        "    plt.ylabel('Linear Discriminant 2')\n",
        "    plt.title(f'Feature Space for Var Retained = {var_retained}')\n",
        "    plt.legend()\n",
        "    plt.show()\n"
      ],
      "metadata": {
        "colab": {
          "base_uri": "https://localhost:8080/",
          "height": 906
        },
        "id": "UDCanUaNZiaX",
        "outputId": "1347b1e1-c431-4e31-8264-f1530f4aa0bb"
      },
      "execution_count": null,
      "outputs": [
        {
          "output_type": "stream",
          "name": "stderr",
          "text": [
            "/usr/local/lib/python3.9/dist-packages/matplotlib/collections.py:192: ComplexWarning: Casting complex values to real discards the imaginary part\n",
            "  offsets = np.asanyarray(offsets, float)\n"
          ]
        },
        {
          "output_type": "display_data",
          "data": {
            "text/plain": [
              "<Figure size 432x288 with 1 Axes>"
            ],
            "image/png": "[encoded data removed]"
          },
          "metadata": {
            "needs_background": "light"
          }
        },
        {
          "output_type": "display_data",
          "data": {
            "text/plain": [
              "<Figure size 432x288 with 1 Axes>"
            ],
            "image/png": "[encoded data removed]"
          },
          "metadata": {
            "needs_background": "light"
          }
        },
        {
          "output_type": "display_data",
          "data": {
            "text/plain": [
              "<Figure size 432x288 with 1 Axes>"
            ],
            "image/png": "[encoded data removed]"
          },
          "metadata": {
            "needs_background": "light"
          }
        }
      ]
    },
    {
      "cell_type": "markdown",
      "source": [
        "### **Part 3**"
      ],
      "metadata": {
        "id": "-Jlt7oHOSEpC"
      }
    },
    {
      "cell_type": "code",
      "source": [
        "from sklearn.decomposition import PCA\n",
        "from sklearn.linear_model import LogisticRegression\n",
        "from sklearn.metrics import accuracy_score\n",
        "\n",
        "# Perform PCA\n",
        "pca = MyPCA()\n",
        "X_train_pca = pca.fit_transform(X_train)\n",
        "X_test_pca = pca.transform(X_test)\n",
        "\n",
        "# Perform LDA\n",
        "lda=LD()\n",
        "X_train_lda = lda.fit_transform(X_train, y_train)\n",
        "X_test_lda = lda.transform(X_test)\n",
        "\n",
        "# Train logistic regression models on the PCA and LDA features and compute their accuracy\n",
        "lr_pca = LogisticRegression()\n",
        "lr_lda = LogisticRegression()\n",
        "lr_pca.fit(X_train_pca, y_train)\n",
        "lr_lda.fit(X_train_lda, y_train)\n",
        "acc_lr_pca = accuracy_score(y_test, lr_pca.predict(X_test_pca))\n",
        "acc_lr_lda = accuracy_score(y_test, lr_lda.predict(X_test_lda))\n",
        "\n",
        "# # Train KNN models on the PCA and LDA features and compute their accuracy\n",
        "svm_pca = SVC(kernel='linear', C=1)\n",
        "svm_pca.fit(X_train_pca, y_train)\n",
        "y_pred_pca = svm_pca.predict(X_test_pca)\n",
        "acc_svm_pca = accuracy_score(y_test, y_pred_pca)\n",
        "\n",
        "svm_lda = SVC(kernel='linear', C=1)\n",
        "svm_lda.fit(X_train_lda, y_train)\n",
        "y_pred_lda = svm_lda.predict(X_test_lda)\n",
        "acc_svm_lda = accuracy_score(y_test, y_pred_lda)\n",
        "\n",
        "# # Print the results\n",
        "print(f\"Logistic Regression with PCA: accuracy = {acc_lr_pca:.2f}\")\n",
        "print(f\"Logistic Regression with LDA: accuracy = {acc_lr_lda:.2f}\")\n",
        "print(f\"SVM with PCA: accuracy = {acc_svm_pca:.2f}\")\n",
        "print(f\"SVM with LDA: accuracy = {acc_svm_lda:.2f}\")\n"
      ],
      "metadata": {
        "id": "Txgf7YWJSD67",
        "colab": {
          "base_uri": "https://localhost:8080/"
        },
        "outputId": "d2ef818e-d3d8-4718-dd22-2d8d3a978612"
      },
      "execution_count": 127,
      "outputs": [
        {
          "output_type": "stream",
          "name": "stdout",
          "text": [
            "Logistic Regression with PCA: accuracy = 1.00\n",
            "Logistic Regression with LDA: accuracy = 1.00\n",
            "SVM with PCA: accuracy = 0.97\n",
            "SVM with LDA: accuracy = 1.00\n"
          ]
        }
      ]
    }
  ]
}